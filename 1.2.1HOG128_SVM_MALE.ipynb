{
 "cells": [
  {
   "cell_type": "code",
   "execution_count": 1,
   "metadata": {},
   "outputs": [],
   "source": [
    "import cv2\n",
    "import numpy as np\n",
    "import dlib\n",
    "import os\n",
    "from sklearn.cluster import KMeans\n",
    "from matplotlib import pyplot as plt\n",
    "from skimage.feature import hog\n",
    "from skimage import exposure"
   ]
  },
  {
   "cell_type": "code",
   "execution_count": 2,
   "metadata": {},
   "outputs": [],
   "source": [
    "dir_train = r'.\\preprocessed_dataset\\Men\\train'\n",
    "dir_test = r'.\\preprocessed_dataset\\Men\\test'\n",
    "dir_model = r'.\\model'\n",
    "\n",
    "\n",
    "detector = dlib.get_frontal_face_detector()\n",
    "predictor = dlib.shape_predictor(dir_model + \"\\\\\" + \"shape_predictor_68_face_landmarks.dat\")"
   ]
  },
  {
   "cell_type": "code",
   "execution_count": 3,
   "metadata": {},
   "outputs": [],
   "source": [
    "def extract_features(image):\n",
    "    # Resize the image to 128x128\n",
    "    image_resized = cv2.resize(image, (128, 128))\n",
    "    # Compute HOG descriptors\n",
    "    features, hog_image = hog(image_resized, orientations=9, pixels_per_cell=(8, 8),\n",
    "                              cells_per_block=(4, 4), block_norm=\"L2\", visualize=True)\n",
    "    return features, hog_image"
   ]
  },
  {
   "cell_type": "code",
   "execution_count": 4,
   "metadata": {},
   "outputs": [],
   "source": [
    "def feature_engineering(path):\n",
    "    labels = []\n",
    "    hog_features = []\n",
    "    shape_types = ['Heart', 'Oblong', 'Oval', 'Round', 'Square']\n",
    "\n",
    "    for shape in shape_types:\n",
    "        print(f'Loading {shape} images...')\n",
    "        traindir = os.listdir(path + \"\\\\\" + shape)\n",
    "        for imgName in traindir:\n",
    "            print(f'Processing {imgName}...', end=\" \")\n",
    "            img_path = os.path.join(path, shape, imgName)\n",
    "            img = cv2.imread(img_path)\n",
    "\n",
    "            img = cv2.cvtColor(img, cv2.COLOR_BGR2GRAY)\n",
    "\n",
    "            # Hog feature\n",
    "            hog_feature , _ = extract_features(img)\n",
    "            hog_features.append(hog_feature)\n",
    "            labels.append(shape_types.index(shape))\n",
    "        print(\"\")\n",
    "        \n",
    "    labels = np.array(labels).reshape(len(labels), 1)\n",
    "    hog_features = np.array(hog_features)\n",
    "\n",
    "    data = np.hstack((hog_features, labels))\n",
    "    return data"
   ]
  },
  {
   "cell_type": "code",
   "execution_count": 5,
   "metadata": {},
   "outputs": [
    {
     "name": "stdout",
     "output_type": "stream",
     "text": [
      "Loading Heart images...\n",
      "Processing Heart (10).jpg... Processing Heart (102).jpg... Processing Heart (103).jpg... Processing Heart (104).jpg... Processing Heart (105).jpg... Processing Heart (106).jpg... Processing Heart (11).jpg... Processing Heart (112).jpg... Processing Heart (114).jpg... Processing Heart (116).jpg... Processing Heart (118).jpg... Processing Heart (121).jpg... Processing Heart (122).jpg... Processing Heart (125).jpg... Processing Heart (127).jpg... Processing Heart (129).jpg... Processing Heart (13).jpg... Processing Heart (131).jpg... Processing Heart (133).jpg... Processing Heart (134).jpg... Processing Heart (136).jpg... Processing Heart (137).jpg... Processing Heart (138).jpg... Processing Heart (14).jpg... Processing Heart (140).jpg... Processing Heart (142).jpg... Processing Heart (144).jpg... Processing Heart (145).jpg... Processing Heart (148).jpg... Processing Heart (149).jpg... Processing Heart (151).jpg... Processing Heart (152).jpg... Processing Heart (155).jpg... Processing Heart (157).jpg... Processing Heart (158).jpg... Processing Heart (159).jpg... Processing Heart (16).jpg... Processing Heart (161).jpg... Processing Heart (162).jpg... Processing Heart (163).jpg... Processing Heart (164).jpg... Processing Heart (165).jpg... Processing Heart (167).jpg... Processing Heart (172).jpg... Processing Heart (173).jpg... Processing Heart (174).jpg... Processing Heart (175).jpg... Processing Heart (176).jpg... Processing Heart (178).jpg... Processing Heart (179).jpg... Processing Heart (18).jpg... Processing Heart (180).jpg... Processing Heart (182).jpg... Processing Heart (183).jpg... Processing Heart (186).jpg... Processing Heart (187).jpg... Processing Heart (188).jpg... Processing Heart (189).jpg... Processing Heart (19).jpg... Processing Heart (191).jpg... Processing Heart (195).jpg... Processing Heart (196).jpg... Processing Heart (198).jpg... Processing Heart (200).jpg... Processing Heart (204).jpg... Processing Heart (206).jpg... Processing Heart (208).jpg... Processing Heart (209).jpg... Processing Heart (21).jpg... Processing Heart (210).jpg... Processing Heart (211).jpg... Processing Heart (213).jpg... Processing Heart (216).jpg... Processing Heart (218).jpg... Processing Heart (219).jpg... Processing Heart (22).jpg... Processing Heart (220).jpg... Processing Heart (223).jpg... Processing Heart (224).jpg... Processing Heart (227).jpg... Processing Heart (228).jpg... Processing Heart (229).jpg... Processing Heart (232).jpg... Processing Heart (233).jpg... Processing Heart (235).jpg... Processing Heart (236).jpg... Processing Heart (238).jpg... Processing Heart (239).jpg... Processing Heart (240).jpg... Processing Heart (241).jpg... Processing Heart (243).jpg... Processing Heart (25).jpg... Processing Heart (250).jpg... Processing Heart (26).jpg... Processing Heart (28).jpg... Processing Heart (3).jpg... Processing Heart (30).jpg... Processing Heart (31).jpg... Processing Heart (34).jpg... Processing Heart (35).jpg... Processing Heart (36).jpg... Processing Heart (41).jpg... Processing Heart (42).jpg... Processing Heart (45).jpg... Processing Heart (46).jpg... Processing Heart (47).jpg... Processing Heart (49).jpg... Processing Heart (5).jpg... Processing Heart (50).jpg... Processing Heart (51).jpg... Processing Heart (53).jpg... Processing Heart (55).jpg... Processing Heart (56).jpg... Processing Heart (57).jpg... Processing Heart (58).jpg... Processing Heart (59).jpg... Processing Heart (6).jpg... Processing Heart (61).jpg... Processing Heart (62).jpg... Processing Heart (63).jpg... Processing Heart (64).jpg... Processing Heart (65).jpg... Processing Heart (67).jpg... Processing Heart (68).jpg... Processing Heart (69).jpg... Processing Heart (7).jpg... Processing Heart (70).jpg... Processing Heart (71).jpg... Processing Heart (72).jpg... Processing Heart (73).jpg... Processing Heart (74).jpg... Processing Heart (75).jpg... Processing Heart (76).jpg... Processing Heart (8).jpg... Processing Heart (80).jpg... Processing Heart (81).jpg... Processing Heart (83).jpg... Processing Heart (85).jpg... Processing Heart (86).jpg... Processing Heart (87).jpg... Processing Heart (88).jpg... Processing Heart (89).jpg... Processing Heart (9).jpg... Processing Heart (91).jpg... Processing Heart (92).jpg... Processing Heart (94).jpg... Processing Heart (95).jpg... Processing Heart (96).jpg... Processing Heart (98).jpg... Processing Heart (99).jpg... \n",
      "Loading Oblong images...\n",
      "Processing oblong (1).jpg... Processing oblong (10).jpg... Processing oblong (101).jpg... Processing oblong (102).jpg... Processing oblong (103).jpg... Processing oblong (105).jpg... Processing oblong (106).jpg... Processing oblong (107).jpg... Processing oblong (108).jpg... Processing oblong (109).jpg... Processing oblong (11).jpg... Processing oblong (110).jpg... Processing oblong (112).jpg... Processing oblong (113).jpg... Processing oblong (115).jpg... Processing oblong (116).jpg... Processing oblong (117).jpg... Processing oblong (120).jpg... Processing oblong (121).jpg... Processing oblong (122).jpg... Processing oblong (123).jpg... Processing oblong (125).jpg... Processing oblong (126).jpg... Processing oblong (127).jpg... Processing oblong (128).jpg... Processing oblong (129).jpg... Processing oblong (13).jpg... Processing oblong (130).jpg... Processing oblong (131).jpg... Processing oblong (132).jpg... Processing oblong (133).jpg... Processing oblong (135).jpg... Processing oblong (136).jpg... Processing oblong (139).jpg... Processing oblong (14).jpg... Processing oblong (143).jpg... Processing oblong (144).jpg... Processing oblong (148).jpg... Processing oblong (150).jpg... Processing oblong (151).jpg... Processing oblong (152).jpg... Processing oblong (153).jpg... Processing oblong (154).jpg... Processing oblong (155).jpg... Processing oblong (157).jpg... Processing oblong (159).jpg... Processing oblong (162).jpg... Processing oblong (163).jpg... Processing oblong (164).jpg... Processing oblong (165).jpg... Processing oblong (167).jpg... Processing oblong (169).jpg... Processing oblong (17).jpg... Processing oblong (170).jpg... Processing oblong (171).jpg... Processing oblong (174).jpg... Processing oblong (179).jpg... Processing oblong (181).jpg... Processing oblong (183).jpg... Processing oblong (184).jpg... Processing oblong (185).jpg... Processing oblong (186).jpg... Processing oblong (187).jpg... Processing oblong (188).jpg... Processing oblong (190).jpg... Processing oblong (192).jpg... Processing oblong (194).jpg... Processing oblong (196).jpg... Processing oblong (197).jpg... Processing oblong (198).jpg... Processing oblong (199).jpg... Processing oblong (2).jpg... Processing oblong (20).jpg... Processing oblong (201).jpg... Processing oblong (202).jpg... Processing oblong (204).jpg... Processing oblong (205).jpg... Processing oblong (206).jpg... Processing oblong (207).jpg... Processing oblong (209).jpg... Processing oblong (212).jpg... Processing oblong (213).jpg... Processing oblong (214).jpg... Processing oblong (215).jpg... Processing oblong (218).jpg... Processing oblong (219).jpg... Processing oblong (22).jpg... Processing oblong (220).jpg... Processing oblong (222).jpg... Processing oblong (223).jpg... Processing oblong (224).jpg... Processing oblong (225).jpg... Processing oblong (226).jpg... Processing oblong (228).jpg... Processing oblong (229).jpg... Processing oblong (231).jpg... Processing oblong (232).jpg... Processing oblong (234).jpg... Processing oblong (235).jpg... Processing oblong (236).jpg... Processing oblong (239).jpg... Processing oblong (24).jpg... Processing oblong (240).jpg... Processing oblong (242).jpg... Processing oblong (243).jpg... Processing oblong (246).jpg... Processing oblong (247).jpg... Processing oblong (248).jpg... Processing oblong (25).jpg... Processing oblong (27).jpg... Processing oblong (3).jpg... Processing oblong (30).jpg... Processing oblong (31).jpg... Processing oblong (32).jpg... Processing oblong (34).jpg... Processing oblong (35).jpg... Processing oblong (36).jpg... Processing oblong (37).jpg... Processing oblong (43).jpg... Processing oblong (44).jpg... Processing oblong (48).jpg... Processing oblong (5).jpg... Processing oblong (50).jpg... Processing oblong (51).jpg... Processing oblong (54).jpg... Processing oblong (55).jpg... Processing oblong (57).jpg... Processing oblong (58).jpg... Processing oblong (6).jpg... Processing oblong (63).jpg... Processing oblong (67).jpg... Processing oblong (7).jpg... Processing oblong (71).jpg... Processing oblong (72).jpg... Processing oblong (73).jpg... Processing oblong (75).jpg... Processing oblong (76).jpg... Processing oblong (78).jpg... Processing oblong (79).jpg... Processing oblong (81).jpg... Processing oblong (82).jpg... Processing oblong (83).jpg... Processing oblong (85).jpg... Processing oblong (86).jpg... Processing oblong (88).jpg... Processing oblong (89).jpg... Processing oblong (91).jpg... Processing oblong (92).jpg... Processing oblong (96).jpg... Processing oblong (98).jpg... \n",
      "Loading Oval images...\n",
      "Processing Oval (1).jpg... Processing Oval (10).jpg... Processing Oval (101).jpg... Processing Oval (102).jpg... Processing Oval (103).jpg... Processing Oval (104).jpg... Processing Oval (105).jpg... Processing Oval (106).jpg... Processing Oval (108).jpg... Processing Oval (109).jpg... Processing Oval (11).jpg... Processing Oval (110).jpg... Processing Oval (111).jpg... Processing Oval (112).jpg... Processing Oval (113).jpg... Processing Oval (115).jpg... Processing Oval (117).jpg... Processing Oval (118).jpg... Processing Oval (119).jpg... Processing Oval (12).jpg... Processing Oval (121).jpg... Processing Oval (123).jpg... Processing Oval (127).jpg... Processing Oval (128).jpg... Processing Oval (129).jpg... Processing Oval (13).jpg... Processing Oval (131).jpg... Processing Oval (133).jpg... Processing Oval (134).jpg... Processing Oval (136).jpg... Processing Oval (137).jpg... Processing Oval (138).jpg... Processing Oval (139).jpg... Processing Oval (14).jpg... Processing Oval (144).jpg... Processing Oval (145).jpg... Processing Oval (146).jpg... Processing Oval (147).jpg... Processing Oval (148).jpg... Processing Oval (15).jpg... Processing Oval (151).jpg... Processing Oval (152).jpg... Processing Oval (153).jpg... Processing Oval (155).jpg... Processing Oval (156).jpg... Processing Oval (157).jpg... Processing Oval (158).jpg... Processing Oval (159).jpg... Processing Oval (16).jpg... Processing Oval (160).jpg... Processing Oval (161).jpg... Processing Oval (162).jpg... Processing Oval (163).jpg... Processing Oval (164).jpg... Processing Oval (165).jpg... Processing Oval (166).jpg... Processing Oval (167).jpg... Processing Oval (168).jpg... Processing Oval (169).jpg... Processing Oval (17).jpg... Processing Oval (170).jpg... Processing Oval (171).jpg... Processing Oval (172).jpg... Processing Oval (176).jpg... Processing Oval (177).jpg... Processing Oval (178).jpg... Processing Oval (179).jpg... Processing Oval (18).jpg... Processing Oval (181).jpg... Processing Oval (182).jpg... Processing Oval (183).jpg... Processing Oval (184).jpg... Processing Oval (185).jpg... Processing Oval (187).jpg... Processing Oval (188).jpg... Processing Oval (189).jpg... Processing Oval (190).jpg... Processing Oval (191).jpg... Processing Oval (192).jpg... Processing Oval (193).jpg... Processing Oval (194).jpg... Processing Oval (195).jpg... Processing Oval (196).jpg... Processing Oval (197).jpg... Processing Oval (199).jpg... Processing Oval (2).jpg... Processing Oval (20).jpg... Processing Oval (21).jpg... Processing Oval (22).jpg... Processing Oval (23).jpg... Processing Oval (24).jpg... Processing Oval (25).jpg... Processing Oval (26).jpg... Processing Oval (27).jpg... Processing Oval (28).jpg... Processing Oval (3).jpg... Processing Oval (30).jpg... Processing Oval (31).jpg... Processing Oval (35).jpg... Processing Oval (36).jpg... Processing Oval (37).jpg... Processing Oval (38).jpg... Processing Oval (39).jpg... Processing Oval (4).jpg... Processing Oval (40).jpg... Processing Oval (41).jpg... Processing Oval (42).jpg... Processing Oval (43).jpg... Processing Oval (46).jpg... Processing Oval (49).jpg... Processing Oval (5).jpg... Processing Oval (50).jpg... Processing Oval (52).jpg... Processing Oval (55).jpg... Processing Oval (56).jpg... Processing Oval (57).jpg... Processing Oval (58).jpg... Processing Oval (59).jpg... Processing Oval (6).jpg... Processing Oval (60).jpg... Processing Oval (61).jpg... Processing Oval (62).jpg... Processing Oval (63).jpg... Processing Oval (65).jpg... Processing Oval (67).jpg... Processing Oval (68).jpg... Processing Oval (69).jpg... Processing Oval (7).jpg... Processing Oval (72).jpg... Processing Oval (73).jpg... Processing Oval (74).jpg... Processing Oval (75).jpg... Processing Oval (77).jpg... Processing Oval (79).jpg... Processing Oval (80).jpg... Processing Oval (81).jpg... Processing Oval (84).jpg... Processing Oval (85).jpg... Processing Oval (86).jpg... Processing Oval (87).jpg... Processing Oval (88).jpg... Processing Oval (89).jpg... Processing Oval (9).jpg... Processing Oval (92).jpg... Processing Oval (93).jpg... Processing Oval (94).jpg... Processing Oval (96).jpg... Processing Oval (97).jpg... Processing Oval (99).jpg... \n",
      "Loading Round images...\n",
      "Processing Round (1).jpg... Processing Round (10).jpg... Processing Round (101).jpg... Processing Round (103).jpg... Processing Round (104).jpg... Processing Round (105).jpg... Processing Round (106).jpg... Processing Round (107).jpg... Processing Round (109).jpg... Processing Round (11).jpg... Processing Round (111).jpg... Processing Round (112).jpg... Processing Round (113).jpg... Processing Round (114).jpg... Processing Round (115).jpg... Processing Round (116).jpg... Processing Round (117).jpg... Processing Round (118).jpg... Processing Round (119).jpg... Processing Round (12).jpg... Processing Round (120).jpg... Processing Round (122).jpg... Processing Round (123).jpg... Processing Round (125).jpg... Processing Round (126).jpg... Processing Round (127).jpg... Processing Round (128).jpg... Processing Round (130).jpg... Processing Round (131).jpg... Processing Round (132).jpg... Processing Round (134).jpg... Processing Round (135).jpg... Processing Round (136).jpg... Processing Round (137).jpg... Processing Round (141).jpg... Processing Round (144).jpg... Processing Round (145).jpg... Processing Round (146).jpg... Processing Round (148).jpg... Processing Round (149).jpg... Processing Round (15).jpg... Processing Round (151).jpg... Processing Round (153).jpg... Processing Round (154).jpg... Processing Round (158).jpg... Processing Round (159).jpg... Processing Round (16).jpg... Processing Round (160).jpg... Processing Round (163).jpg... Processing Round (164).jpg... Processing Round (166).jpg... Processing Round (167).jpg... Processing Round (168).jpg... Processing Round (169).jpg... Processing Round (17).jpg... Processing Round (170).jpg... Processing Round (171).jpg... Processing Round (172).jpg... Processing Round (174).jpg... Processing Round (176).jpg... Processing Round (178).jpg... Processing Round (179).jpg... Processing Round (18).jpg... Processing Round (181).jpg... Processing Round (183).jpg... Processing Round (184).jpg... Processing Round (185).jpg... Processing Round (186).jpg... Processing Round (187).jpg... Processing Round (188).jpg... Processing Round (19).jpg... Processing Round (190).jpg... Processing Round (191).jpg... Processing Round (192).jpg... Processing Round (193).jpg... Processing Round (194).jpg... Processing Round (195).jpg... Processing Round (197).jpg... Processing Round (198).jpg... Processing Round (199).jpg... Processing Round (2).jpg... Processing Round (20).jpg... Processing Round (201).jpg... Processing Round (202).jpg... Processing Round (203).jpg... Processing Round (204).jpg... Processing Round (205).jpg... Processing Round (206).jpg... Processing Round (208).jpg... Processing Round (209).jpg... Processing Round (21).jpg... Processing Round (23).jpg... Processing Round (24).jpg... Processing Round (25).jpg... Processing Round (26).jpg... Processing Round (27).jpg... Processing Round (29).jpg... Processing Round (3).jpg... Processing Round (30).jpg... Processing Round (31).jpg... Processing Round (32).jpg... Processing Round (33).jpg... Processing Round (34).jpg... Processing Round (35).jpg... Processing Round (40).jpg... Processing Round (42).jpg... Processing Round (43).jpg... Processing Round (44).jpg... Processing Round (46).jpg... Processing Round (47).jpg... Processing Round (48).jpg... Processing Round (49).jpg... Processing Round (50).jpg... Processing Round (54).jpg... Processing Round (55).jpg... Processing Round (56).jpg... Processing Round (59).jpg... Processing Round (6).jpg... Processing Round (61).jpg... Processing Round (62).jpg... Processing Round (65).jpg... Processing Round (66).jpg... Processing Round (68).jpg... Processing Round (69).jpg... Processing Round (7).jpg... Processing Round (70).jpg... Processing Round (71).jpg... Processing Round (72).jpg... Processing Round (75).jpg... Processing Round (77).jpg... Processing Round (8).jpg... Processing Round (81).jpg... Processing Round (83).jpg... Processing Round (84).jpg... Processing Round (85).jpg... Processing Round (87).jpg... Processing Round (88).jpg... Processing Round (9).jpg... Processing Round (90).jpg... Processing Round (92).jpg... Processing Round (94).jpg... Processing Round (95).jpg... Processing Round (96).jpg... Processing Round (97).jpg... Processing Round (98).jpg... Processing Round (99).jpg... \n",
      "Loading Square images...\n",
      "Processing Square (1).jpg... Processing Square (100).jpg... Processing Square (101).jpg... Processing Square (103).jpg... Processing Square (104).jpg... Processing Square (105).jpg... Processing Square (106).jpg... Processing Square (107).jpg... Processing Square (108).jpg... Processing Square (11).jpg... Processing Square (110).jpg... Processing Square (111).jpg... Processing Square (112).jpg... Processing Square (113).jpg... Processing Square (114).jpg... Processing Square (115).jpg... Processing Square (117).jpg... Processing Square (118).jpg... Processing Square (119).jpg... Processing Square (12).jpg... Processing Square (120).jpg... Processing Square (121).jpg... Processing Square (122).jpg... Processing Square (123).jpg... Processing Square (124).jpg... Processing Square (125).jpg... Processing Square (127).jpg... Processing Square (128).jpg... Processing Square (129).jpg... Processing Square (13).jpg... Processing Square (130).jpg... Processing Square (132).jpg... Processing Square (133).jpg... Processing Square (135).jpg... Processing Square (136).jpg... Processing Square (137).jpg... Processing Square (138).jpg... Processing Square (141).jpg... Processing Square (142).jpg... Processing Square (144).jpg... Processing Square (145).jpg... Processing Square (146).jpg... Processing Square (148).jpg... Processing Square (149).jpg... Processing Square (151).jpg... Processing Square (152).jpg... Processing Square (153).jpg... Processing Square (154).jpg... Processing Square (155).jpg... Processing Square (157).jpg... Processing Square (158).jpg... Processing Square (16).jpg... Processing Square (160).jpg... Processing Square (162).jpg... Processing Square (163).jpg... Processing Square (164).jpg... Processing Square (165).jpg... Processing Square (17).jpg... Processing Square (170).jpg... Processing Square (171).jpg... Processing Square (172).jpg... Processing Square (173).jpg... Processing Square (174).jpg... Processing Square (175).jpg... Processing Square (176).jpg... Processing Square (179).jpg... Processing Square (18).jpg... Processing Square (180).jpg... Processing Square (181).jpg... Processing Square (183).jpg... Processing Square (185).jpg... Processing Square (187).jpg... Processing Square (188).jpg... Processing Square (189).jpg... Processing Square (190).jpg... Processing Square (192).jpg... Processing Square (193).jpg... Processing Square (195).jpg... Processing Square (196).jpg... Processing Square (197).jpg... Processing Square (198).jpg... Processing Square (199).jpg... Processing Square (2).jpg... Processing Square (20).jpg... Processing Square (200).jpg... Processing Square (201).jpg... Processing Square (202).jpg... Processing Square (203).jpg... Processing Square (21).jpg... Processing Square (23).jpg... Processing Square (25).jpg... Processing Square (26).jpg... Processing Square (28).jpg... Processing Square (3).jpg... Processing Square (30).jpg... Processing Square (31).jpg... Processing Square (32).jpg... Processing Square (33).jpg... Processing Square (34).jpg... Processing Square (37).jpg... Processing Square (4).jpg... Processing Square (41).jpg... Processing Square (42).jpg... Processing Square (43).jpg... Processing Square (44).jpg... Processing Square (45).jpg... Processing Square (48).jpg... Processing Square (49).jpg... Processing Square (5).jpg... Processing Square (50).jpg... Processing Square (52).jpg... Processing Square (53).jpg... Processing Square (54).jpg... Processing Square (55).jpg... Processing Square (56).jpg... Processing Square (57).jpg... Processing Square (58).jpg... Processing Square (59).jpg... Processing Square (60).jpg... Processing Square (61).jpg... Processing Square (62).jpg... Processing Square (66).jpg... Processing Square (67).jpg... Processing Square (68).jpg... Processing Square (7).jpg... Processing Square (70).jpg... Processing Square (72).jpg... Processing Square (73).jpg... Processing Square (75).jpg... Processing Square (76).jpg... Processing Square (77).jpg... Processing Square (78).jpg... Processing Square (80).jpg... Processing Square (82).jpg... Processing Square (83).jpg... Processing Square (85).jpg... Processing Square (86).jpg... Processing Square (87).jpg... Processing Square (88).jpg... Processing Square (89).jpg... Processing Square (9).jpg... Processing Square (91).jpg... Processing Square (92).jpg... Processing Square (93).jpg... Processing Square (94).jpg... Processing Square (95).jpg... Processing Square (96).jpg... Processing Square (97).jpg... Processing Square (98).jpg... Processing Square (99).jpg... \n",
      "Loading Heart images...\n",
      "Processing Heart (100).jpg... Processing Heart (101).jpg... Processing Heart (107).jpg... Processing Heart (109).jpg... Processing Heart (111).jpg... Processing Heart (113).jpg... Processing Heart (115).jpg... Processing Heart (12).jpg... Processing Heart (120).jpg... Processing Heart (123).jpg... Processing Heart (124).jpg... Processing Heart (126).jpg... Processing Heart (128).jpg... Processing Heart (132).jpg... Processing Heart (141).jpg... Processing Heart (143).jpg... Processing Heart (146).jpg... Processing Heart (150).jpg... Processing Heart (160).jpg... Processing Heart (168).jpg... Processing Heart (169).jpg... Processing Heart (170).jpg... Processing Heart (171).jpg... Processing Heart (181).jpg... Processing Heart (193).jpg... Processing Heart (201).jpg... Processing Heart (202).jpg... Processing Heart (203).jpg... Processing Heart (212).jpg... Processing Heart (225).jpg... Processing Heart (226).jpg... Processing Heart (230).jpg... Processing Heart (231).jpg... Processing Heart (234).jpg... Processing Heart (242).jpg... Processing Heart (245).jpg... Processing Heart (246).jpg... Processing Heart (248).jpg... Processing Heart (251).jpg... Processing Heart (27).jpg... Processing Heart (38).jpg... Processing Heart (40).jpg... Processing Heart (43).jpg... Processing Heart (44).jpg... Processing Heart (48).jpg... Processing Heart (52).jpg... Processing Heart (60).jpg... Processing Heart (79).jpg... Processing Heart (84).jpg... Processing Heart (90).jpg... \n",
      "Loading Oblong images...\n",
      "Processing oblong (114).jpg... Processing oblong (118).jpg... Processing oblong (124).jpg... Processing oblong (134).jpg... Processing oblong (138).jpg... Processing oblong (140).jpg... Processing oblong (141).jpg... Processing oblong (145).jpg... Processing oblong (146).jpg... Processing oblong (147).jpg... Processing oblong (149).jpg... Processing oblong (15).jpg... Processing oblong (156).jpg... Processing oblong (158).jpg... Processing oblong (16).jpg... Processing oblong (160).jpg... Processing oblong (166).jpg... Processing oblong (172).jpg... Processing oblong (173).jpg... Processing oblong (175).jpg... Processing oblong (177).jpg... Processing oblong (178).jpg... Processing oblong (19).jpg... Processing oblong (195).jpg... Processing oblong (200).jpg... Processing oblong (203).jpg... Processing oblong (21).jpg... Processing oblong (210).jpg... Processing oblong (216).jpg... Processing oblong (217).jpg... Processing oblong (227).jpg... Processing oblong (238).jpg... Processing oblong (28).jpg... Processing oblong (39).jpg... Processing oblong (41).jpg... Processing oblong (42).jpg... Processing oblong (47).jpg... Processing oblong (49).jpg... Processing oblong (53).jpg... Processing oblong (56).jpg... Processing oblong (59).jpg... Processing oblong (61).jpg... Processing oblong (64).jpg... Processing oblong (65).jpg... Processing oblong (70).jpg... Processing oblong (8).jpg... Processing oblong (84).jpg... Processing oblong (9).jpg... Processing oblong (94).jpg... Processing oblong (97).jpg... \n",
      "Loading Oval images...\n",
      "Processing Oval (100).jpg... Processing Oval (107).jpg... Processing Oval (114).jpg... Processing Oval (116).jpg... Processing Oval (122).jpg... Processing Oval (124).jpg... Processing Oval (125).jpg... Processing Oval (126).jpg... Processing Oval (130).jpg... Processing Oval (132).jpg... Processing Oval (135).jpg... Processing Oval (140).jpg... Processing Oval (141).jpg... Processing Oval (142).jpg... Processing Oval (143).jpg... Processing Oval (149).jpg... Processing Oval (150).jpg... Processing Oval (154).jpg... Processing Oval (173).jpg... Processing Oval (174).jpg... Processing Oval (175).jpg... Processing Oval (180).jpg... Processing Oval (186).jpg... Processing Oval (19).jpg... Processing Oval (198).jpg... Processing Oval (200).jpg... Processing Oval (29).jpg... Processing Oval (32).jpg... Processing Oval (33).jpg... Processing Oval (34).jpg... Processing Oval (44).jpg... Processing Oval (45).jpg... Processing Oval (47).jpg... Processing Oval (48).jpg... Processing Oval (51).jpg... Processing Oval (53).jpg... Processing Oval (54).jpg... Processing Oval (64).jpg... Processing Oval (66).jpg... Processing Oval (70).jpg... Processing Oval (71).jpg... Processing Oval (76).jpg... Processing Oval (78).jpg... Processing Oval (8).jpg... Processing Oval (82).jpg... Processing Oval (83).jpg... Processing Oval (90).jpg... Processing Oval (91).jpg... Processing Oval (95).jpg... Processing Oval (98).jpg... \n",
      "Loading Round images...\n",
      "Processing Round (100).jpg... Processing Round (102).jpg... Processing Round (108).jpg... Processing Round (110).jpg... Processing Round (121).jpg... Processing Round (129).jpg... Processing Round (133).jpg... Processing Round (138).jpg... Processing Round (139).jpg... Processing Round (14).jpg... Processing Round (140).jpg... Processing Round (142).jpg... Processing Round (143).jpg... Processing Round (150).jpg... Processing Round (152).jpg... Processing Round (155).jpg... Processing Round (156).jpg... Processing Round (157).jpg... Processing Round (161).jpg... Processing Round (162).jpg... Processing Round (165).jpg... Processing Round (173).jpg... Processing Round (180).jpg... Processing Round (182).jpg... Processing Round (189).jpg... Processing Round (207).jpg... Processing Round (22).jpg... Processing Round (28).jpg... Processing Round (38).jpg... Processing Round (39).jpg... Processing Round (4).jpg... Processing Round (41).jpg... Processing Round (45).jpg... Processing Round (5).jpg... Processing Round (53).jpg... Processing Round (57).jpg... Processing Round (58).jpg... Processing Round (60).jpg... Processing Round (63).jpg... Processing Round (64).jpg... Processing Round (67).jpg... Processing Round (73).jpg... Processing Round (74).jpg... Processing Round (78).jpg... Processing Round (79).jpg... Processing Round (80).jpg... Processing Round (86).jpg... Processing Round (89).jpg... Processing Round (91).jpg... Processing Round (93).jpg... \n",
      "Loading Square images...\n",
      "Processing Square (10).jpg... Processing Square (102).jpg... Processing Square (109).jpg... Processing Square (116).jpg... Processing Square (126).jpg... Processing Square (131).jpg... Processing Square (134).jpg... Processing Square (139).jpg... Processing Square (140).jpg... Processing Square (143).jpg... Processing Square (147).jpg... Processing Square (15).jpg... Processing Square (150).jpg... Processing Square (156).jpg... Processing Square (161).jpg... Processing Square (166).jpg... Processing Square (167).jpg... Processing Square (168).jpg... Processing Square (169).jpg... Processing Square (177).jpg... Processing Square (178).jpg... Processing Square (182).jpg... Processing Square (184).jpg... Processing Square (186).jpg... Processing Square (19).jpg... Processing Square (191).jpg... Processing Square (22).jpg... Processing Square (24).jpg... Processing Square (27).jpg... Processing Square (29).jpg... Processing Square (35).jpg... Processing Square (36).jpg... Processing Square (38).jpg... Processing Square (39).jpg... Processing Square (40).jpg... Processing Square (46).jpg... Processing Square (47).jpg... Processing Square (51).jpg... Processing Square (6).jpg... Processing Square (63).jpg... Processing Square (64).jpg... Processing Square (65).jpg... Processing Square (69).jpg... Processing Square (71).jpg... Processing Square (74).jpg... Processing Square (79).jpg... Processing Square (8).jpg... Processing Square (81).jpg... Processing Square (84).jpg... Processing Square (90).jpg... \n"
     ]
    }
   ],
   "source": [
    "data_train = feature_engineering(dir_train)\n",
    "data_test = feature_engineering(dir_test)"
   ]
  },
  {
   "cell_type": "code",
   "execution_count": 6,
   "metadata": {},
   "outputs": [],
   "source": [
    "np.random.shuffle(data_train)\n",
    "x_train = data_train[:, :-1]\n",
    "y_train = data_train[:, -1]\n",
    "np.random.shuffle(data_test)\n",
    "x_test = data_test[:, :-1]\n",
    "y_test = data_test[:, -1]"
   ]
  },
  {
   "cell_type": "markdown",
   "metadata": {},
   "source": [
    "## ĐÂY LÀ PHẦN BUILD MODEL"
   ]
  },
  {
   "cell_type": "code",
   "execution_count": 7,
   "metadata": {},
   "outputs": [
    {
     "data": {
      "text/html": [
       "<style>#sk-container-id-1 {color: black;background-color: white;}#sk-container-id-1 pre{padding: 0;}#sk-container-id-1 div.sk-toggleable {background-color: white;}#sk-container-id-1 label.sk-toggleable__label {cursor: pointer;display: block;width: 100%;margin-bottom: 0;padding: 0.3em;box-sizing: border-box;text-align: center;}#sk-container-id-1 label.sk-toggleable__label-arrow:before {content: \"▸\";float: left;margin-right: 0.25em;color: #696969;}#sk-container-id-1 label.sk-toggleable__label-arrow:hover:before {color: black;}#sk-container-id-1 div.sk-estimator:hover label.sk-toggleable__label-arrow:before {color: black;}#sk-container-id-1 div.sk-toggleable__content {max-height: 0;max-width: 0;overflow: hidden;text-align: left;background-color: #f0f8ff;}#sk-container-id-1 div.sk-toggleable__content pre {margin: 0.2em;color: black;border-radius: 0.25em;background-color: #f0f8ff;}#sk-container-id-1 input.sk-toggleable__control:checked~div.sk-toggleable__content {max-height: 200px;max-width: 100%;overflow: auto;}#sk-container-id-1 input.sk-toggleable__control:checked~label.sk-toggleable__label-arrow:before {content: \"▾\";}#sk-container-id-1 div.sk-estimator input.sk-toggleable__control:checked~label.sk-toggleable__label {background-color: #d4ebff;}#sk-container-id-1 div.sk-label input.sk-toggleable__control:checked~label.sk-toggleable__label {background-color: #d4ebff;}#sk-container-id-1 input.sk-hidden--visually {border: 0;clip: rect(1px 1px 1px 1px);clip: rect(1px, 1px, 1px, 1px);height: 1px;margin: -1px;overflow: hidden;padding: 0;position: absolute;width: 1px;}#sk-container-id-1 div.sk-estimator {font-family: monospace;background-color: #f0f8ff;border: 1px dotted black;border-radius: 0.25em;box-sizing: border-box;margin-bottom: 0.5em;}#sk-container-id-1 div.sk-estimator:hover {background-color: #d4ebff;}#sk-container-id-1 div.sk-parallel-item::after {content: \"\";width: 100%;border-bottom: 1px solid gray;flex-grow: 1;}#sk-container-id-1 div.sk-label:hover label.sk-toggleable__label {background-color: #d4ebff;}#sk-container-id-1 div.sk-serial::before {content: \"\";position: absolute;border-left: 1px solid gray;box-sizing: border-box;top: 0;bottom: 0;left: 50%;z-index: 0;}#sk-container-id-1 div.sk-serial {display: flex;flex-direction: column;align-items: center;background-color: white;padding-right: 0.2em;padding-left: 0.2em;position: relative;}#sk-container-id-1 div.sk-item {position: relative;z-index: 1;}#sk-container-id-1 div.sk-parallel {display: flex;align-items: stretch;justify-content: center;background-color: white;position: relative;}#sk-container-id-1 div.sk-item::before, #sk-container-id-1 div.sk-parallel-item::before {content: \"\";position: absolute;border-left: 1px solid gray;box-sizing: border-box;top: 0;bottom: 0;left: 50%;z-index: -1;}#sk-container-id-1 div.sk-parallel-item {display: flex;flex-direction: column;z-index: 1;position: relative;background-color: white;}#sk-container-id-1 div.sk-parallel-item:first-child::after {align-self: flex-end;width: 50%;}#sk-container-id-1 div.sk-parallel-item:last-child::after {align-self: flex-start;width: 50%;}#sk-container-id-1 div.sk-parallel-item:only-child::after {width: 0;}#sk-container-id-1 div.sk-dashed-wrapped {border: 1px dashed gray;margin: 0 0.4em 0.5em 0.4em;box-sizing: border-box;padding-bottom: 0.4em;background-color: white;}#sk-container-id-1 div.sk-label label {font-family: monospace;font-weight: bold;display: inline-block;line-height: 1.2em;}#sk-container-id-1 div.sk-label-container {text-align: center;}#sk-container-id-1 div.sk-container {/* jupyter's `normalize.less` sets `[hidden] { display: none; }` but bootstrap.min.css set `[hidden] { display: none !important; }` so we also need the `!important` here to be able to override the default hidden behavior on the sphinx rendered scikit-learn.org. See: https://github.com/scikit-learn/scikit-learn/issues/21755 */display: inline-block !important;position: relative;}#sk-container-id-1 div.sk-text-repr-fallback {display: none;}</style><div id=\"sk-container-id-1\" class=\"sk-top-container\"><div class=\"sk-text-repr-fallback\"><pre>GridSearchCV(estimator=SVC(random_state=42),\n",
       "             param_grid={&#x27;C&#x27;: [1, 2, 5], &#x27;gamma&#x27;: [0.1, 0.01, 1, &#x27;scale&#x27;]})</pre><b>In a Jupyter environment, please rerun this cell to show the HTML representation or trust the notebook. <br />On GitHub, the HTML representation is unable to render, please try loading this page with nbviewer.org.</b></div><div class=\"sk-container\" hidden><div class=\"sk-item sk-dashed-wrapped\"><div class=\"sk-label-container\"><div class=\"sk-label sk-toggleable\"><input class=\"sk-toggleable__control sk-hidden--visually\" id=\"sk-estimator-id-1\" type=\"checkbox\" ><label for=\"sk-estimator-id-1\" class=\"sk-toggleable__label sk-toggleable__label-arrow\">GridSearchCV</label><div class=\"sk-toggleable__content\"><pre>GridSearchCV(estimator=SVC(random_state=42),\n",
       "             param_grid={&#x27;C&#x27;: [1, 2, 5], &#x27;gamma&#x27;: [0.1, 0.01, 1, &#x27;scale&#x27;]})</pre></div></div></div><div class=\"sk-parallel\"><div class=\"sk-parallel-item\"><div class=\"sk-item\"><div class=\"sk-label-container\"><div class=\"sk-label sk-toggleable\"><input class=\"sk-toggleable__control sk-hidden--visually\" id=\"sk-estimator-id-2\" type=\"checkbox\" ><label for=\"sk-estimator-id-2\" class=\"sk-toggleable__label sk-toggleable__label-arrow\">estimator: SVC</label><div class=\"sk-toggleable__content\"><pre>SVC(random_state=42)</pre></div></div></div><div class=\"sk-serial\"><div class=\"sk-item\"><div class=\"sk-estimator sk-toggleable\"><input class=\"sk-toggleable__control sk-hidden--visually\" id=\"sk-estimator-id-3\" type=\"checkbox\" ><label for=\"sk-estimator-id-3\" class=\"sk-toggleable__label sk-toggleable__label-arrow\">SVC</label><div class=\"sk-toggleable__content\"><pre>SVC(random_state=42)</pre></div></div></div></div></div></div></div></div></div></div>"
      ],
      "text/plain": [
       "GridSearchCV(estimator=SVC(random_state=42),\n",
       "             param_grid={'C': [1, 2, 5], 'gamma': [0.1, 0.01, 1, 'scale']})"
      ]
     },
     "execution_count": 7,
     "metadata": {},
     "output_type": "execute_result"
    }
   ],
   "source": [
    "from sklearn.svm import SVC\n",
    "from sklearn.model_selection import GridSearchCV\n",
    "\n",
    "para = {\n",
    "    'C': [1, 2, 5],\n",
    "    'gamma': [0.1, 0.01, 1, \"scale\"]\n",
    "}\n",
    "model = SVC(kernel = 'rbf', random_state = 42)\n",
    "search = GridSearchCV(model, para)\n",
    "search.fit(x_train[:300], y_train[:300])"
   ]
  },
  {
   "cell_type": "code",
   "execution_count": 8,
   "metadata": {},
   "outputs": [
    {
     "name": "stdout",
     "output_type": "stream",
     "text": [
      "Best parameters: {'C': 2, 'gamma': 'scale'}\n",
      "Best cross-validation score: 0.5\n"
     ]
    }
   ],
   "source": [
    "best_params = search.best_params_\n",
    "best_score = search.best_score_\n",
    "\n",
    "print(f\"Best parameters: {best_params}\")\n",
    "print(f\"Best cross-validation score: {best_score}\")"
   ]
  },
  {
   "cell_type": "code",
   "execution_count": 9,
   "metadata": {},
   "outputs": [
    {
     "data": {
      "text/html": [
       "<style>#sk-container-id-2 {color: black;background-color: white;}#sk-container-id-2 pre{padding: 0;}#sk-container-id-2 div.sk-toggleable {background-color: white;}#sk-container-id-2 label.sk-toggleable__label {cursor: pointer;display: block;width: 100%;margin-bottom: 0;padding: 0.3em;box-sizing: border-box;text-align: center;}#sk-container-id-2 label.sk-toggleable__label-arrow:before {content: \"▸\";float: left;margin-right: 0.25em;color: #696969;}#sk-container-id-2 label.sk-toggleable__label-arrow:hover:before {color: black;}#sk-container-id-2 div.sk-estimator:hover label.sk-toggleable__label-arrow:before {color: black;}#sk-container-id-2 div.sk-toggleable__content {max-height: 0;max-width: 0;overflow: hidden;text-align: left;background-color: #f0f8ff;}#sk-container-id-2 div.sk-toggleable__content pre {margin: 0.2em;color: black;border-radius: 0.25em;background-color: #f0f8ff;}#sk-container-id-2 input.sk-toggleable__control:checked~div.sk-toggleable__content {max-height: 200px;max-width: 100%;overflow: auto;}#sk-container-id-2 input.sk-toggleable__control:checked~label.sk-toggleable__label-arrow:before {content: \"▾\";}#sk-container-id-2 div.sk-estimator input.sk-toggleable__control:checked~label.sk-toggleable__label {background-color: #d4ebff;}#sk-container-id-2 div.sk-label input.sk-toggleable__control:checked~label.sk-toggleable__label {background-color: #d4ebff;}#sk-container-id-2 input.sk-hidden--visually {border: 0;clip: rect(1px 1px 1px 1px);clip: rect(1px, 1px, 1px, 1px);height: 1px;margin: -1px;overflow: hidden;padding: 0;position: absolute;width: 1px;}#sk-container-id-2 div.sk-estimator {font-family: monospace;background-color: #f0f8ff;border: 1px dotted black;border-radius: 0.25em;box-sizing: border-box;margin-bottom: 0.5em;}#sk-container-id-2 div.sk-estimator:hover {background-color: #d4ebff;}#sk-container-id-2 div.sk-parallel-item::after {content: \"\";width: 100%;border-bottom: 1px solid gray;flex-grow: 1;}#sk-container-id-2 div.sk-label:hover label.sk-toggleable__label {background-color: #d4ebff;}#sk-container-id-2 div.sk-serial::before {content: \"\";position: absolute;border-left: 1px solid gray;box-sizing: border-box;top: 0;bottom: 0;left: 50%;z-index: 0;}#sk-container-id-2 div.sk-serial {display: flex;flex-direction: column;align-items: center;background-color: white;padding-right: 0.2em;padding-left: 0.2em;position: relative;}#sk-container-id-2 div.sk-item {position: relative;z-index: 1;}#sk-container-id-2 div.sk-parallel {display: flex;align-items: stretch;justify-content: center;background-color: white;position: relative;}#sk-container-id-2 div.sk-item::before, #sk-container-id-2 div.sk-parallel-item::before {content: \"\";position: absolute;border-left: 1px solid gray;box-sizing: border-box;top: 0;bottom: 0;left: 50%;z-index: -1;}#sk-container-id-2 div.sk-parallel-item {display: flex;flex-direction: column;z-index: 1;position: relative;background-color: white;}#sk-container-id-2 div.sk-parallel-item:first-child::after {align-self: flex-end;width: 50%;}#sk-container-id-2 div.sk-parallel-item:last-child::after {align-self: flex-start;width: 50%;}#sk-container-id-2 div.sk-parallel-item:only-child::after {width: 0;}#sk-container-id-2 div.sk-dashed-wrapped {border: 1px dashed gray;margin: 0 0.4em 0.5em 0.4em;box-sizing: border-box;padding-bottom: 0.4em;background-color: white;}#sk-container-id-2 div.sk-label label {font-family: monospace;font-weight: bold;display: inline-block;line-height: 1.2em;}#sk-container-id-2 div.sk-label-container {text-align: center;}#sk-container-id-2 div.sk-container {/* jupyter's `normalize.less` sets `[hidden] { display: none; }` but bootstrap.min.css set `[hidden] { display: none !important; }` so we also need the `!important` here to be able to override the default hidden behavior on the sphinx rendered scikit-learn.org. See: https://github.com/scikit-learn/scikit-learn/issues/21755 */display: inline-block !important;position: relative;}#sk-container-id-2 div.sk-text-repr-fallback {display: none;}</style><div id=\"sk-container-id-2\" class=\"sk-top-container\"><div class=\"sk-text-repr-fallback\"><pre>SVC(C=2)</pre><b>In a Jupyter environment, please rerun this cell to show the HTML representation or trust the notebook. <br />On GitHub, the HTML representation is unable to render, please try loading this page with nbviewer.org.</b></div><div class=\"sk-container\" hidden><div class=\"sk-item\"><div class=\"sk-estimator sk-toggleable\"><input class=\"sk-toggleable__control sk-hidden--visually\" id=\"sk-estimator-id-4\" type=\"checkbox\" checked><label for=\"sk-estimator-id-4\" class=\"sk-toggleable__label sk-toggleable__label-arrow\">SVC</label><div class=\"sk-toggleable__content\"><pre>SVC(C=2)</pre></div></div></div></div></div>"
      ],
      "text/plain": [
       "SVC(C=2)"
      ]
     },
     "execution_count": 9,
     "metadata": {},
     "output_type": "execute_result"
    }
   ],
   "source": [
    "from sklearn.svm import SVC\n",
    "\n",
    "model = SVC(kernel = 'rbf', C = 2, gamma=\"scale\")\n",
    "model.fit(x_train, y_train)"
   ]
  },
  {
   "cell_type": "code",
   "execution_count": 10,
   "metadata": {},
   "outputs": [
    {
     "name": "stdout",
     "output_type": "stream",
     "text": [
      "[[26  8 12  2  2]\n",
      " [ 4 27 11  4  4]\n",
      " [ 7  1 37  2  3]\n",
      " [ 1  3  6 36  4]\n",
      " [ 5  6  3  1 35]]\n"
     ]
    },
    {
     "data": {
      "text/plain": [
       "0.644"
      ]
     },
     "execution_count": 10,
     "metadata": {},
     "output_type": "execute_result"
    }
   ],
   "source": [
    "from sklearn.metrics import confusion_matrix, accuracy_score, classification_report\n",
    "y_pred = model.predict(x_test)\n",
    "cm = confusion_matrix(y_test, y_pred)\n",
    "print(cm)\n",
    "accuracy_score(y_test, y_pred)"
   ]
  },
  {
   "cell_type": "code",
   "execution_count": 15,
   "metadata": {},
   "outputs": [
    {
     "name": "stdout",
     "output_type": "stream",
     "text": [
      "              precision    recall  f1-score   support\n",
      "\n",
      "         0.0       0.69      0.69      0.69       200\n",
      "         1.0       0.71      0.73      0.72       198\n",
      "         2.0       0.58      0.55      0.56       198\n",
      "         3.0       0.65      0.68      0.67       197\n",
      "         4.0       0.77      0.75      0.76       200\n",
      "\n",
      "    accuracy                           0.68       993\n",
      "   macro avg       0.68      0.68      0.68       993\n",
      "weighted avg       0.68      0.68      0.68       993\n",
      "\n"
     ]
    }
   ],
   "source": [
    "print(classification_report(y_test, y_pred))"
   ]
  },
  {
   "cell_type": "markdown",
   "metadata": {},
   "source": [
    "### Save model after training (if training on tensorflow, please save model using this [link](https://www.geeksforgeeks.org/save-and-load-models-in-tensorflow/))"
   ]
  },
  {
   "cell_type": "code",
   "execution_count": null,
   "metadata": {},
   "outputs": [],
   "source": [
    "%pip install joblib"
   ]
  },
  {
   "cell_type": "code",
   "execution_count": null,
   "metadata": {},
   "outputs": [],
   "source": [
    "import pickle\n",
    "\n",
    "# DON'T RUN IF YOU ALREADY HAVE THE MODEL FILES\n",
    "file_name = './model/ml-model.pkl'\n",
    "with open(file_name, 'wb') as file:\n",
    "    pickle.dump(model, file)"
   ]
  }
 ],
 "metadata": {
  "kernelspec": {
   "display_name": "base",
   "language": "python",
   "name": "python3"
  },
  "language_info": {
   "codemirror_mode": {
    "name": "ipython",
    "version": 3
   },
   "file_extension": ".py",
   "mimetype": "text/x-python",
   "name": "python",
   "nbconvert_exporter": "python",
   "pygments_lexer": "ipython3",
   "version": "3.11.7"
  }
 },
 "nbformat": 4,
 "nbformat_minor": 2
}
